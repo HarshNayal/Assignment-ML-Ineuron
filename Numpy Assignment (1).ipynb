{
 "cells": [
  {
   "cell_type": "code",
   "execution_count": 45,
   "metadata": {},
   "outputs": [
    {
     "name": "stdout",
     "output_type": "stream",
     "text": [
      "Enter the numbers : \n",
      "1 2 3\n",
      "[1, 2, 3]\n"
     ]
    }
   ],
   "source": [
    "import numpy as np\n",
    "\n",
    "list1 = []\n",
    "list1 = [int(i) for i in input(\"Enter the numbers : \\n\").split()]\n",
    "print(list1)\n",
    "a1 = np.array(list1)\n",
    "n = max(a1)"
   ]
  },
  {
   "cell_type": "code",
   "execution_count": 46,
   "metadata": {},
   "outputs": [
    {
     "name": "stdout",
     "output_type": "stream",
     "text": [
      "[[ 1  1  1]\n",
      " [ 2  4  8]\n",
      " [ 3  9 27]]\n",
      "________________________\n",
      "\n",
      "[[ 1  2  3]\n",
      " [ 1  4  9]\n",
      " [ 1  8 27]]\n"
     ]
    }
   ],
   "source": [
    "V = np.array([a1**(n) for n in a1])\n",
    "print(np.transpose(V))\n",
    "print(\"________________________\\n\")\n",
    "print(V)"
   ]
  },
  {
   "cell_type": "code",
   "execution_count": 47,
   "metadata": {},
   "outputs": [
    {
     "name": "stdout",
     "output_type": "stream",
     "text": [
      "[3, 5, 7, 2, 8, 10, 11, 65, 72, 81, 99, 100, 150]\n"
     ]
    }
   ],
   "source": [
    "list2 = []\n",
    "X = [3, 5, 7, 2, 8, 10, 11, 65, 72, 81, 99, 100, 150]\n",
    "list2 = [int(i) for i in X]\n",
    "print(list2)\n",
    "W = 3\n"
   ]
  },
  {
   "cell_type": "code",
   "execution_count": 48,
   "metadata": {},
   "outputs": [
    {
     "name": "stdout",
     "output_type": "stream",
     "text": [
      "(  3  +  5  +  7  )  /  3  =  10.333333333333334\n",
      "(  5  +  7  +  2  )  /  3  =  12.666666666666666\n",
      "(  7  +  2  +  8  )  /  3  =  11.666666666666666\n",
      "(  2  +  8  +  10  )  /  3  =  13.333333333333334\n",
      "(  8  +  10  +  11  )  /  3  =  21.666666666666668\n",
      "(  10  +  11  +  65  )  /  3  =  42.66666666666667\n",
      "(  11  +  65  +  72  )  /  3  =  100.0\n",
      "(  65  +  72  +  81  )  /  3  =  164.0\n",
      "(  72  +  81  +  99  )  /  3  =  186.0\n",
      "(  81  +  99  +  100  )  /  3  =  213.33333333333334\n",
      "(  99  +  100  +  150  )  /  3  =  249.0\n"
     ]
    }
   ],
   "source": [
    "for i in range(len(X) - 2):\n",
    "    ans = (X[i] + X[i+1] + X[i+2] / W)\n",
    "    print( \"( \" ,X[i], \" + \" ,X[i+1] ,\" + \" ,X[i+2] ,\" )\",\" / \" ,W, \" = \", ans)"
   ]
  },
  {
   "cell_type": "code",
   "execution_count": null,
   "metadata": {},
   "outputs": [],
   "source": []
  }
 ],
 "metadata": {
  "kernelspec": {
   "display_name": "Python 3",
   "language": "python",
   "name": "python3"
  },
  "language_info": {
   "codemirror_mode": {
    "name": "ipython",
    "version": 3
   },
   "file_extension": ".py",
   "mimetype": "text/x-python",
   "name": "python",
   "nbconvert_exporter": "python",
   "pygments_lexer": "ipython3",
   "version": "3.7.6"
  }
 },
 "nbformat": 4,
 "nbformat_minor": 4
}
